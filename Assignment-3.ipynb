{
 "cells": [
  {
   "cell_type": "code",
   "execution_count": 82,
   "metadata": {},
   "outputs": [
    {
     "name": "stdout",
     "output_type": "stream",
     "text": [
      "Some error occured \n"
     ]
    }
   ],
   "source": [
    "# Write a function to compute 5/0 and use try/except to catch the exceptions\n",
    "\n",
    "a = 5 \n",
    "b = 0\n",
    "try :\n",
    "    a / b \n",
    "except : \n",
    "    print(\"An exception has  occured \")\n",
    "else :\n",
    "        print(\"No problem\")"
   ]
  },
  {
   "cell_type": "code",
   "execution_count": 79,
   "metadata": {},
   "outputs": [
    {
     "name": "stdout",
     "output_type": "stream",
     "text": [
      "Americans  play Baseball.\n",
      "Americans  play Cricket.\n",
      "Americans  watch Baseball.\n",
      "Americans  watch Cricket.\n",
      "Indians play Baseball.\n",
      "Indians play Cricket.\n",
      "Indians watch Baseball.\n",
      "Indians watch Cricket.\n"
     ]
    }
   ],
   "source": [
    "# Implement a Python program to generate all sentences\n",
    "\n",
    "subjects=[\"Americans \",\"Indians\"]\n",
    "verbs=[\"play\",\"watch\"]\n",
    "objects=[\"Baseball\",\"Cricket\"]\n",
    "\n",
    "sentences = [print(\"{} {} {}.\" .format(sub,ver,obj) )   for sub in subjects    for ver in verbs for obj in objects  ] \n"
   ]
  },
  {
   "cell_type": "code",
   "execution_count": 173,
   "metadata": {},
   "outputs": [
    {
     "name": "stdout",
     "output_type": "stream",
     "text": [
      "(x,N) =\n",
      " [[ 1  1  1]\n",
      " [ 4  2  1]\n",
      " [ 9  3  1]\n",
      " [25  5  1]]\n",
      "\n",
      "(x) =\n",
      " [[  1   1   1   1]\n",
      " [  8   4   2   1]\n",
      " [ 27   9   3   1]\n",
      " [125  25   5   1]]\n",
      "\n",
      "(x,N,increasing=True) =\n",
      " [[ 1  1  1]\n",
      " [ 1  2  4]\n",
      " [ 1  3  9]\n",
      " [ 1  5 25]]\n",
      "\n",
      "(x,N,increasing=False) =\n",
      " [[ 1  1  1]\n",
      " [ 4  2  1]\n",
      " [ 9  3  1]\n",
      " [25  5  1]]\n"
     ]
    }
   ],
   "source": [
    "#Write a function so that the columns of the output matrix are powers of the input vector\n",
    "\n",
    "import numpy as np\n",
    "\n",
    "\n",
    "x = np.array([1,2,3,5])\n",
    "N = 3 \n",
    "print(\"(x,N) =\\n\", np.vander(x,N))  \n",
    "print(\"\\n(x) =\\n\", np.vander(x) )\n",
    "print(\"\\n(x,N,increasing=True) =\\n\",  np.vander(x,N,increasing=True) ) \n",
    "print(\"\\n(x,N,increasing=False) =\\n\", np.vander(x,N,increasing=False) )\n",
    "\n"
   ]
  },
  {
   "cell_type": "code",
   "execution_count": null,
   "metadata": {},
   "outputs": [],
   "source": []
  }
 ],
 "metadata": {
  "kernelspec": {
   "display_name": "Python 3",
   "language": "python",
   "name": "python3"
  },
  "language_info": {
   "codemirror_mode": {
    "name": "ipython",
    "version": 3
   },
   "file_extension": ".py",
   "mimetype": "text/x-python",
   "name": "python",
   "nbconvert_exporter": "python",
   "pygments_lexer": "ipython3",
   "version": "3.7.3"
  }
 },
 "nbformat": 4,
 "nbformat_minor": 2
}
