{
 "cells": [
  {
   "cell_type": "code",
   "execution_count": 165,
   "metadata": {},
   "outputs": [
    {
     "name": "stdout",
     "output_type": "stream",
     "text": [
      "list =  [1, 2, 3, 4, 5, 6, 7, 8, 9]\n",
      "Addition =  45\n",
      "Multiplication  =  362880\n"
     ]
    }
   ],
   "source": [
    "# Task 1.1 \n",
    "# Write a Python Program to implement your own myreduce() function which works exactly like Python's built-in function reduce()\n",
    "\n",
    "add = lambda  x , y : x + y \n",
    "multiply = lambda x , y : x * y \n",
    "\n",
    "my_list = list ( range( 1 , 10 ) ) \n",
    "\n",
    "print (\"list = \" , my_list)\n",
    "\n",
    "def myreduce (func_name , list) : \n",
    "    result = my_list[0]\n",
    "    for x in my_list[1:]:\n",
    "        result = func_name(result, x)\n",
    "        #print(x , result)\n",
    "        \n",
    "    return result\n",
    "        \n",
    "print(\"Addition = \",myreduce(add , my_list) )   \n",
    "print(\"Multiplication  = \",myreduce(multiply , my_list) )\n",
    "\n"
   ]
  },
  {
   "cell_type": "code",
   "execution_count": 166,
   "metadata": {},
   "outputs": [
    {
     "name": "stdout",
     "output_type": "stream",
     "text": [
      "my_list =  [2, 0, -1, 9, -5, 1, -2]\n",
      "neg_numbers =  [-1, -5, -2]\n",
      "pos_numbers =  [2, 9, 1]\n",
      "even_numbers =  [2, 0, -2]\n"
     ]
    }
   ],
   "source": [
    "# Task 1.2 \n",
    "# Write a Python program to implement your own myfilter() function which works exactly like Python's built-in function filter()\n",
    "\n",
    "neg_numbers = lambda  x  : ( x < 0 ) \n",
    "pos_numbers = lambda x : ( x > 0 ) \n",
    "even_numbers = lambda x : x%2==0 \n",
    "\n",
    "my_list = [ 2 , 0 , -1 , 9 , -5 , 1 , -2] \n",
    "\n",
    "print (\"my_list = \" , my_list)\n",
    "\n",
    "def myfilter  (func_name , my_list) : \n",
    "    result = []\n",
    "    for x in my_list:\n",
    "        if func_name(x):\n",
    "            result.append(x)\n",
    "        \n",
    "        #print(x , result)\n",
    "        \n",
    "    return result\n",
    "        \n",
    "print(\"neg_numbers = \",myfilter(neg_numbers , my_list) )   \n",
    "print(\"pos_numbers = \",myfilter(pos_numbers , my_list) )\n",
    "print(\"even_numbers = \",myfilter(even_numbers , my_list) )\n"
   ]
  },
  {
   "cell_type": "code",
   "execution_count": 167,
   "metadata": {},
   "outputs": [
    {
     "name": "stdout",
     "output_type": "stream",
     "text": [
      "list1 = ['A', 'C', 'A', 'D', 'G', 'I', 'L', 'D']\n",
      "\n",
      "list2 = ['x', 'xx', 'xxx', 'xxxx', 'y', 'yy', 'yyy', 'yyyy', 'z', 'zz', 'zzz', 'zzzz']\n",
      "\n",
      "list3 = ['x', 'y', 'z', 'xx', 'yy', 'zz', 'xxx', 'yyy', 'zzz', 'xxxx', 'yyyy', 'zzzz']\n",
      "\n",
      "list4 = [[2], [3], [4], [3], [4], [5], [4], [5], [6]]\n",
      "\n",
      "list5 = [[2, 3, 4, 5], [3, 4, 5, 6], [4, 5, 6, 7], [5, 6, 7, 8]]\n",
      "\n",
      "list6 = [(1, 1), (2, 1), (3, 1), (1, 2), (2, 2), (3, 2), (1, 3), (2, 3), (3, 3)]\n",
      "\n"
     ]
    }
   ],
   "source": [
    "# Task 1 (2 ) \n",
    "# Implement List comprehensions to produce the following lists\n",
    "\n",
    "str1 = \"ACADGILD\"\n",
    "list1 = [ ch for ch in str1 ]\n",
    "\n",
    "\n",
    "list2 = [ ch * i    for ch in [ 'x' , 'y', 'z']  for i in range (1,5) ]\n",
    "\n",
    "list3 = [ ch * i   for i in range (1,5) for ch in [ 'x' , 'y', 'z'] ]\n",
    "\n",
    "list4 = [[a + b ] for a  in range(2,5) for b in range(3)]\n",
    "\n",
    "list5 = [ list(  map(lambda x : x + i, [2,3,4,5]) ) for i in range(4) ]\n",
    "\n",
    "list6 = [ ( y,x ) for x in range (1,4) for y in range (1,4)]\n",
    "\n",
    "\n",
    "print(\"list1 = {}\\n\\nlist2 = {}\\n\\nlist3 = {}\\n\\nlist4 = {}\\n\\nlist5 = {}\\n\\nlist6 = {}\\n\" .format(list1,list2,list3,list4,list5,list6))\n",
    "\n"
   ]
  },
  {
   "cell_type": "code",
   "execution_count": 72,
   "metadata": {},
   "outputs": [
    {
     "name": "stdout",
     "output_type": "stream",
     "text": [
      "The longest word from the list ['1', '22', '88888888', '55555', '', '4444'] is 88888888 \n"
     ]
    }
   ],
   "source": [
    "# Task 1 ( 3) \n",
    "# Implement a function longestWord() that takes a list of words and returns the longest one.\n",
    "\n",
    "def longestWord(list_words):\n",
    "    longWord = \"str\"\n",
    "    for word in list_words:\n",
    "        if  len(longWord) < len(word):\n",
    "            longWord = word\n",
    "    \n",
    "    return longWord\n",
    "\n",
    "list_words = [\"1\", \"22\", \"88888888\", \"55555\", \"\", \"4444\"]\n",
    "\n",
    "print(\"The longest word from the list {} is {} \"  .format(list_words , longestWord(list_words)) ) \n"
   ]
  },
  {
   "cell_type": "code",
   "execution_count": 164,
   "metadata": {},
   "outputs": [
    {
     "name": "stdout",
     "output_type": "stream",
     "text": [
      "Enter side 1 : 2\n",
      "Enter side 2 : 3\n",
      "Enter side 3 : 4\n",
      "Side 1 is 2.0\n",
      "Side 2 is 3.0\n",
      "Side 3 is 4.0\n",
      "The area of the triangle is 2.90\n"
     ]
    }
   ],
   "source": [
    "#2.1 \n",
    "# class concept Triangle program\n",
    "\n",
    "class Polygon:\n",
    "    def __init__(self, no_of_sides):\n",
    "        self.n = no_of_sides\n",
    "        self.sides = [0 for i in range(no_of_sides)]\n",
    "    def inputSides(self):\n",
    "        self.sides = [float(input(\"Enter side \"+str(i+1)+\" : \")) for i in range(self.n)]\n",
    "    def dispSides(self):\n",
    "        for i in range(self.n):\n",
    "            print(\"Side\",i+1,\"is\",self.sides[i])\n",
    "    def findArea(self):   \n",
    "            pass\n",
    "    \n",
    "    \n",
    "            \n",
    "class Triangle(Polygon):\n",
    "    def __init__(self):\n",
    "        Polygon.__init__(self,3)\n",
    "    def findArea(self):\n",
    "        a, b, c = self.sides\n",
    "        # calculate the semi-perimeter\n",
    "        s = (a + b + c) / 2\n",
    "        area = (s*(s-a)*(s-b)*(s-c)) ** 0.5\n",
    "        print('The area of the triangle is %0.2f' %area)\n",
    "\n",
    "        \n",
    "        \n",
    "        \n",
    "t = Triangle()\n",
    "t.inputSides()\n",
    "t.dispSides()\n",
    "t.findArea()\n",
    "\n"
   ]
  },
  {
   "cell_type": "code",
   "execution_count": 168,
   "metadata": {},
   "outputs": [
    {
     "data": {
      "text/plain": [
       "['xxx', 'xxxx', 'yyy', 'yyyy', 'zzz', 'zzzz']"
      ]
     },
     "execution_count": 168,
     "metadata": {},
     "output_type": "execute_result"
    }
   ],
   "source": [
    "# Task 2.2 \n",
    "# Write a function filter_long_words() that takes a list of words and an integer n and returns the list of words that are longer than n.\n",
    "\n",
    "def filter_long_words (list_words, n ):\n",
    "    return list ( filter(lambda x:len(x)> n, list_words) ) \n",
    "    \n",
    "    \n",
    "list_words = ['x', 'xx', 'xxx', 'xxxx', 'y', 'yy', 'yyy', 'yyyy', 'z', 'zz', 'zzz', 'zzzz']\n",
    "\n",
    "filter_long_words(list_words,2)\n",
    "\n"
   ]
  },
  {
   "cell_type": "code",
   "execution_count": 169,
   "metadata": {},
   "outputs": [
    {
     "name": "stdout",
     "output_type": "stream",
     "text": [
      "['ab', 'cde', 'erty', '', 'spa ce']\n",
      "[2, 3, 4, 0, 6]\n"
     ]
    }
   ],
   "source": [
    "# Task 2.3 \n",
    "# Write a Python program using function concept that maps list of words into a list of integers representing the lengths of the corresponding words .\n",
    "\n",
    "def len_words(listvar):\n",
    "    return list ( map(lambda x:len(x), listvar))\n",
    "    \n",
    "\n",
    "my_list  = [\"ab\",\"cde\",\"erty\",\"\",\"spa ce\"]\n",
    "\n",
    "print(my_list)\n",
    "print(len_words(my_list))\n"
   ]
  },
  {
   "cell_type": "code",
   "execution_count": 56,
   "metadata": {},
   "outputs": [
    {
     "name": "stdout",
     "output_type": "stream",
     "text": [
      "False\n",
      "True\n",
      "True\n"
     ]
    }
   ],
   "source": [
    "# Task 2.4 \n",
    "# Write a Python function which takes a character (i.e. a string of length 1) and returns True if it is a vowel, False otherwise\n",
    "\n",
    "def is_Vowel(x):\n",
    "    Vowel = [\"a\", \"e\" , \"i\", \"o\", \"u\" , \"A\", \"E\", \"I\" , \"O\", \"U\"]\n",
    "    if x in Vowel:\n",
    "        return True\n",
    "    else:\n",
    "        return False \n",
    "\n",
    "print( is_Vowel('b') )\n",
    "print( is_Vowel('e') )\n",
    "print ( is_Vowel('U'))\n"
   ]
  },
  {
   "cell_type": "code",
   "execution_count": null,
   "metadata": {},
   "outputs": [],
   "source": []
  }
 ],
 "metadata": {
  "kernelspec": {
   "display_name": "Python 3",
   "language": "python",
   "name": "python3"
  },
  "language_info": {
   "codemirror_mode": {
    "name": "ipython",
    "version": 3
   },
   "file_extension": ".py",
   "mimetype": "text/x-python",
   "name": "python",
   "nbconvert_exporter": "python",
   "pygments_lexer": "ipython3",
   "version": "3.7.3"
  }
 },
 "nbformat": 4,
 "nbformat_minor": 2
}
